{
 "cells": [
  {
   "cell_type": "code",
   "execution_count": 3,
   "metadata": {},
   "outputs": [],
   "source": [
    "import os\n",
    "import numpy as np\n",
    "import torch\n",
    "from collections import defaultdict as ddict\n",
    "import dgl\n",
    "from tqdm import tqdm\n",
    "import pickle as pkl\n",
    "from collections import Counter"
   ]
  },
  {
   "cell_type": "code",
   "execution_count": 34,
   "metadata": {},
   "outputs": [],
   "source": [
    "data_path = './FB15k-237/'\n",
    "# data_path = './wn18rr'\n",
    "# data_path = './codex-l'\n",
    "# data_path = './YAGO3-10'"
   ]
  },
  {
   "cell_type": "code",
   "execution_count": 35,
   "metadata": {},
   "outputs": [],
   "source": [
    "def get_ent_rel_map(data_path):\n",
    "    with open(os.path.join(data_path, 'entities.dict')) as fin:\n",
    "        entity2id = dict()\n",
    "        for line in fin:\n",
    "            eid, entity = line.strip().split('\\t')\n",
    "            entity2id[entity] = int(eid)\n",
    "\n",
    "    with open(os.path.join(data_path, 'relations.dict')) as fin:\n",
    "        relation2id = dict()\n",
    "        for line in fin:\n",
    "            rid, relation = line.strip().split('\\t')\n",
    "            relation2id[relation] = int(rid)\n",
    "\n",
    "    return entity2id, relation2id\n",
    "\n",
    "\n",
    "def read_triple(data_path, entity2id, relation2id):\n",
    "    train_triples = []\n",
    "    with open(os.path.join(data_path, 'train.txt')) as fin:\n",
    "        for line in fin:\n",
    "            h, r, t = line.strip().split('\\t')\n",
    "            train_triples.append((entity2id[h], relation2id[r], entity2id[t]))\n",
    "\n",
    "    valid_triples = []\n",
    "    with open(os.path.join(data_path, 'valid.txt')) as fin:\n",
    "        for line in fin:\n",
    "            h, r, t = line.strip().split('\\t')\n",
    "            valid_triples.append((entity2id[h], relation2id[r], entity2id[t]))\n",
    "\n",
    "    test_triples = []\n",
    "    with open(os.path.join(data_path, 'test.txt')) as fin:\n",
    "        for line in fin:\n",
    "            h, r, t = line.strip().split('\\t')\n",
    "            test_triples.append((entity2id[h], relation2id[r], entity2id[t]))\n",
    "\n",
    "    return train_triples, valid_triples, test_triples\n",
    "\n",
    "def get_train_g(train_triples, num_ent):\n",
    "    train_triples = torch.LongTensor(train_triples)\n",
    "    num_tri = train_triples.shape[0]\n",
    "    g = dgl.graph((train_triples[:, 0].T, train_triples[:, 2].T), num_nodes=num_ent)\n",
    "    g.edata['rel'] = train_triples[:, 1].T\n",
    "    \n",
    "    return g"
   ]
  },
  {
   "cell_type": "code",
   "execution_count": 36,
   "metadata": {},
   "outputs": [
    {
     "name": "stdout",
     "output_type": "stream",
     "text": [
      "#ent: 40559\n",
      "#rel: 11\n",
      "#train: 86835\n",
      "#valid: 2824\n",
      "#test: 2924\n"
     ]
    }
   ],
   "source": [
    "entity2id, relation2id = get_ent_rel_map(data_path)\n",
    "num_ent = len(entity2id)\n",
    "num_rel = len(relation2id)\n",
    "print('#ent:', num_ent)\n",
    "print('#rel:', num_rel)\n",
    "\n",
    "train_triples, valid_triples, test_triples = read_triple(data_path, entity2id, relation2id)\n",
    "print('#train:', len(train_triples))\n",
    "print('#valid:', len(valid_triples))\n",
    "print('#test:', len(test_triples))"
   ]
  },
  {
   "cell_type": "code",
   "execution_count": 37,
   "metadata": {},
   "outputs": [],
   "source": [
    "train_g = get_train_g(train_triples, num_ent)"
   ]
  },
  {
   "cell_type": "markdown",
   "metadata": {},
   "source": [
    "## relational feature for entities"
   ]
  },
  {
   "cell_type": "code",
   "execution_count": 38,
   "metadata": {},
   "outputs": [
    {
     "name": "stderr",
     "output_type": "stream",
     "text": [
      "100%|██████████| 40559/40559 [03:06<00:00, 217.21it/s]\n"
     ]
    }
   ],
   "source": [
    "ent_rel_feat = torch.zeros(num_ent, num_rel*2)\n",
    "\n",
    "for e in tqdm(range(num_ent)):\n",
    "    out_eid = train_g.out_edges(torch.tensor([e]), form='eid')\n",
    "    in_eid = train_g.in_edges(torch.tensor([e]), form='eid')\n",
    "    \n",
    "    for r in train_g.edata['rel'][out_eid]:\n",
    "        ent_rel_feat[e, r] += 1\n",
    "    for r in train_g.edata['rel'][in_eid]:\n",
    "        ent_rel_feat[e, r + num_rel] += 1"
   ]
  },
  {
   "cell_type": "code",
   "execution_count": 39,
   "metadata": {},
   "outputs": [],
   "source": [
    "pkl.dump(ent_rel_feat, open(os.path.join(data_path, 'ent_rel_feat.pkl'), 'wb'))"
   ]
  },
  {
   "cell_type": "markdown",
   "metadata": {},
   "source": [
    "## random reserved entities"
   ]
  },
  {
   "cell_type": "code",
   "execution_count": 40,
   "metadata": {},
   "outputs": [],
   "source": [
    "res_ent_ratio = 0.1\n",
    "ratio_str = '0p1'\n",
    "\n",
    "# random select reserved entities\n",
    "res_ent_map = \\\n",
    "    torch.unique(torch.tensor(np.random.choice(np.arange(num_ent), int(num_ent*res_ent_ratio), replace=False)))"
   ]
  },
  {
   "cell_type": "markdown",
   "metadata": {},
   "source": [
    "## topk reserved entities for all entities"
   ]
  },
  {
   "cell_type": "code",
   "execution_count": 41,
   "metadata": {},
   "outputs": [],
   "source": [
    "ent_rel_feat = pkl.load(open(os.path.join(data_path, 'ent_rel_feat.pkl'), 'rb'))"
   ]
  },
  {
   "cell_type": "code",
   "execution_count": 42,
   "metadata": {},
   "outputs": [],
   "source": [
    "ent_rel_feat_norm = ent_rel_feat / (torch.norm(ent_rel_feat, dim=-1).reshape(-1, 1) + 1e-6)\n",
    "ent_rel_feat = ent_rel_feat_norm[res_ent_map]\n",
    "ent_sim = torch.mm(ent_rel_feat_norm, ent_rel_feat.T)"
   ]
  },
  {
   "cell_type": "code",
   "execution_count": 43,
   "metadata": {},
   "outputs": [],
   "source": [
    "topk_sim, topk_idx = torch.topk(ent_sim, 100, dim=-1)"
   ]
  },
  {
   "cell_type": "code",
   "execution_count": 44,
   "metadata": {},
   "outputs": [],
   "source": [
    "pkl.dump({'res_ent_map': res_ent_map, \n",
    "          'topk_sim': topk_sim,\n",
    "          'topk_idx': topk_idx\n",
    "         }, \n",
    "         open(os.path.join(data_path, f'res_ent_{ratio_str}.pkl'), 'wb'))"
   ]
  },
  {
   "cell_type": "code",
   "execution_count": null,
   "metadata": {},
   "outputs": [],
   "source": []
  }
 ],
 "metadata": {
  "kernelspec": {
   "display_name": "torch111",
   "language": "python",
   "name": "torch111"
  },
  "language_info": {
   "codemirror_mode": {
    "name": "ipython",
    "version": 3
   },
   "file_extension": ".py",
   "mimetype": "text/x-python",
   "name": "python",
   "nbconvert_exporter": "python",
   "pygments_lexer": "ipython3",
   "version": "3.8.5"
  }
 },
 "nbformat": 4,
 "nbformat_minor": 4
}
